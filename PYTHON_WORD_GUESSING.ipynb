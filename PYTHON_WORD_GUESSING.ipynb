{
 "cells": [
  {
   "cell_type": "markdown",
   "metadata": {},
   "source": [
    "# Guessing Game"
   ]
  },
  {
   "cell_type": "code",
   "execution_count": null,
   "metadata": {},
   "outputs": [],
   "source": [
    "import random\n",
    "name=input(\"Enter your name:\")\n",
    "print(f'Hello {name} !!--> Welcome to the word guessing game!<--')\n",
    "words=['arpitha','prabha','television','machine','flute','movie']\n",
    "\n",
    "# get a random word from the list\n",
    "index=random.randint(0,len(words))\n",
    "word=words[index]\n",
    "indexes=random.sample(range(0,len(word)),3)\n",
    "guesses=\" \"  # characters that the user has guessed so far\n",
    "\n",
    "for i in indexes:\n",
    "    guesses+=word[i]\n",
    "    \n",
    "chances=10\n",
    "play=\"Yes\"\n",
    "\n",
    "def playagain():\n",
    "    global play\n",
    "    play=input('Do you want to play again? (Yes/No): ')\n",
    "    \n",
    "    if play=='Yes':\n",
    "        global chances,word,guesses\n",
    "        chances=10\n",
    "        index=random.randint(0,len(words))\n",
    "        word=words[index]\n",
    "        indexed=random.sample(range(0,len(word)),3)\n",
    "        guesses=\" \"\n",
    "        for i in indexes:\n",
    "            guesses+=word[i]\n",
    "\n",
    "# This play is global variable\n",
    "while play==\"Yes\":\n",
    "    while chances>0:\n",
    "        won=True\n",
    "\n",
    "        for ch in word:\n",
    "            if ch in guesses:\n",
    "                print(ch,end=' ')\n",
    "            else:\n",
    "                print('_',end=' ')\n",
    "                won=False\n",
    "\n",
    "        if won:\n",
    "            print('\\n You Won!!')\n",
    "            print(f\"Your score is {chances * 10}\")\n",
    "            playagain()\n",
    "            break\n",
    "\n",
    "        # take guess from the user\n",
    "        guess= input('\\nGuess a character:')\n",
    "        guesses+=guess\n",
    "\n",
    "        if guess not in word:\n",
    "            chances-=1\n",
    "            print('\\nWrong Answer!!')\n",
    "            print(f'You have {chances} left!')\n",
    "\n",
    "            if chances==0:\n",
    "                \n",
    "                print('!!You Lose --> Game Over')\n",
    "                playagain()\n",
    "                break\n",
    "print(\"Thank you for playing!!!\")"
   ]
  },
  {
   "cell_type": "code",
   "execution_count": null,
   "metadata": {},
   "outputs": [],
   "source": []
  }
 ],
 "metadata": {
  "kernelspec": {
   "display_name": "Python 3",
   "language": "python",
   "name": "python3"
  },
  "language_info": {
   "codemirror_mode": {
    "name": "ipython",
    "version": 3
   },
   "file_extension": ".py",
   "mimetype": "text/x-python",
   "name": "python",
   "nbconvert_exporter": "python",
   "pygments_lexer": "ipython3",
   "version": "3.8.3"
  }
 },
 "nbformat": 4,
 "nbformat_minor": 4
}
